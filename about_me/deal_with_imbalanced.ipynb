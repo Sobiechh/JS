{
 "cells": [
  {
   "cell_type": "code",
   "execution_count": 1,
   "metadata": {},
   "outputs": [],
   "source": [
    "import numpy as np \n",
    "import os \n",
    "import re \n",
    "import sys \n",
    "import seaborn as sns\n",
    "import pandas as pd \n",
    "import matplotlib.pyplot as plt"
   ]
  },
  {
   "cell_type": "code",
   "execution_count": 2,
   "metadata": {},
   "outputs": [],
   "source": [
    "from sklearn.model_selection import train_test_split\n",
    "from sklearn.linear_model import LogisticRegression\n",
    "from sklearn.dummy import DummyClassifier\n",
    "from sklearn.metrics import accuracy_score, f1_score, confusion_matrix, recall_score\n",
    "from sklearn.metrics import precision_score "
   ]
  },
  {
   "cell_type": "code",
   "execution_count": 3,
   "metadata": {},
   "outputs": [],
   "source": [
    "os.chdir(r'\\\\SPPLFAPCEN02.pl.ing-ad\\USERDATA\\AA95MU\\Desktop\\ml_zadanie\\Modelowanie')"
   ]
  },
  {
   "cell_type": "code",
   "execution_count": 4,
   "metadata": {},
   "outputs": [],
   "source": [
    "df = pd.read_csv('data_add_cols.csv', index_col=False)"
   ]
  },
  {
   "cell_type": "code",
   "execution_count": 5,
   "metadata": {},
   "outputs": [],
   "source": [
    "df = df.drop(['Unnamed: 0'], axis = 1)"
   ]
  },
  {
   "cell_type": "code",
   "execution_count": 6,
   "metadata": {},
   "outputs": [],
   "source": [
    "df = df.fillna(0) "
   ]
  },
  {
   "cell_type": "code",
   "execution_count": 7,
   "metadata": {},
   "outputs": [
    {
     "data": {
      "text/html": [
       "<div>\n",
       "<style scoped>\n",
       "    .dataframe tbody tr th:only-of-type {\n",
       "        vertical-align: middle;\n",
       "    }\n",
       "\n",
       "    .dataframe tbody tr th {\n",
       "        vertical-align: top;\n",
       "    }\n",
       "\n",
       "    .dataframe thead th {\n",
       "        text-align: right;\n",
       "    }\n",
       "</style>\n",
       "<table border=\"1\" class=\"dataframe\">\n",
       "  <thead>\n",
       "    <tr style=\"text-align: right;\">\n",
       "      <th></th>\n",
       "      <th>numer_sprawy</th>\n",
       "      <th>n_docs</th>\n",
       "      <th>weekday</th>\n",
       "      <th>month</th>\n",
       "      <th>year</th>\n",
       "      <th>dowodosobisty</th>\n",
       "      <th>dowodzagraniczny</th>\n",
       "      <th>kartotekaklienta2_x</th>\n",
       "      <th>kontrolacompliance</th>\n",
       "      <th>paszport</th>\n",
       "      <th>...</th>\n",
       "      <th>Formularze_danych_osobowych+SKANER</th>\n",
       "      <th>KRS+INBOX</th>\n",
       "      <th>Dokumenty_Rejestrowe+SKANER</th>\n",
       "      <th>Dokumenty_Rejestrowe+CIB</th>\n",
       "      <th>DokumentyCashManagement+CIB</th>\n",
       "      <th>DokumentyCashManagement+SKANER</th>\n",
       "      <th>INBOX+PodrodzajA566</th>\n",
       "      <th>INBOX+imię nazwisko</th>\n",
       "      <th>SKANER+imię nazwisko</th>\n",
       "      <th>CIB+imię nazwisko</th>\n",
       "    </tr>\n",
       "  </thead>\n",
       "  <tbody>\n",
       "    <tr>\n",
       "      <th>0</th>\n",
       "      <td>190502/045793</td>\n",
       "      <td>4</td>\n",
       "      <td>3</td>\n",
       "      <td>5</td>\n",
       "      <td>2019</td>\n",
       "      <td>0.0</td>\n",
       "      <td>0.0</td>\n",
       "      <td>0.0</td>\n",
       "      <td>0.0</td>\n",
       "      <td>0.0</td>\n",
       "      <td>...</td>\n",
       "      <td>0</td>\n",
       "      <td>0</td>\n",
       "      <td>0</td>\n",
       "      <td>0</td>\n",
       "      <td>0</td>\n",
       "      <td>0</td>\n",
       "      <td>0</td>\n",
       "      <td>1</td>\n",
       "      <td>0</td>\n",
       "      <td>0</td>\n",
       "    </tr>\n",
       "    <tr>\n",
       "      <th>1</th>\n",
       "      <td>190502/045818</td>\n",
       "      <td>4</td>\n",
       "      <td>3</td>\n",
       "      <td>5</td>\n",
       "      <td>2019</td>\n",
       "      <td>0.0</td>\n",
       "      <td>0.0</td>\n",
       "      <td>0.0</td>\n",
       "      <td>0.0</td>\n",
       "      <td>0.0</td>\n",
       "      <td>...</td>\n",
       "      <td>0</td>\n",
       "      <td>0</td>\n",
       "      <td>0</td>\n",
       "      <td>0</td>\n",
       "      <td>0</td>\n",
       "      <td>0</td>\n",
       "      <td>0</td>\n",
       "      <td>1</td>\n",
       "      <td>0</td>\n",
       "      <td>0</td>\n",
       "    </tr>\n",
       "    <tr>\n",
       "      <th>2</th>\n",
       "      <td>190502/049822</td>\n",
       "      <td>1</td>\n",
       "      <td>2</td>\n",
       "      <td>6</td>\n",
       "      <td>2019</td>\n",
       "      <td>0.0</td>\n",
       "      <td>0.0</td>\n",
       "      <td>0.0</td>\n",
       "      <td>0.0</td>\n",
       "      <td>0.0</td>\n",
       "      <td>...</td>\n",
       "      <td>0</td>\n",
       "      <td>0</td>\n",
       "      <td>0</td>\n",
       "      <td>0</td>\n",
       "      <td>0</td>\n",
       "      <td>0</td>\n",
       "      <td>0</td>\n",
       "      <td>0</td>\n",
       "      <td>0</td>\n",
       "      <td>0</td>\n",
       "    </tr>\n",
       "    <tr>\n",
       "      <th>3</th>\n",
       "      <td>190502/049927</td>\n",
       "      <td>1</td>\n",
       "      <td>0</td>\n",
       "      <td>5</td>\n",
       "      <td>2019</td>\n",
       "      <td>0.0</td>\n",
       "      <td>0.0</td>\n",
       "      <td>0.0</td>\n",
       "      <td>0.0</td>\n",
       "      <td>0.0</td>\n",
       "      <td>...</td>\n",
       "      <td>0</td>\n",
       "      <td>0</td>\n",
       "      <td>0</td>\n",
       "      <td>0</td>\n",
       "      <td>0</td>\n",
       "      <td>0</td>\n",
       "      <td>0</td>\n",
       "      <td>0</td>\n",
       "      <td>0</td>\n",
       "      <td>0</td>\n",
       "    </tr>\n",
       "    <tr>\n",
       "      <th>4</th>\n",
       "      <td>190502/051760</td>\n",
       "      <td>1</td>\n",
       "      <td>0</td>\n",
       "      <td>5</td>\n",
       "      <td>2019</td>\n",
       "      <td>0.0</td>\n",
       "      <td>0.0</td>\n",
       "      <td>0.0</td>\n",
       "      <td>0.0</td>\n",
       "      <td>0.0</td>\n",
       "      <td>...</td>\n",
       "      <td>0</td>\n",
       "      <td>0</td>\n",
       "      <td>0</td>\n",
       "      <td>0</td>\n",
       "      <td>0</td>\n",
       "      <td>0</td>\n",
       "      <td>0</td>\n",
       "      <td>0</td>\n",
       "      <td>0</td>\n",
       "      <td>0</td>\n",
       "    </tr>\n",
       "  </tbody>\n",
       "</table>\n",
       "<p>5 rows × 2867 columns</p>\n",
       "</div>"
      ],
      "text/plain": [
       "    numer_sprawy  n_docs  weekday  month  year  dowodosobisty  \\\n",
       "0  190502/045793       4        3      5  2019            0.0   \n",
       "1  190502/045818       4        3      5  2019            0.0   \n",
       "2  190502/049822       1        2      6  2019            0.0   \n",
       "3  190502/049927       1        0      5  2019            0.0   \n",
       "4  190502/051760       1        0      5  2019            0.0   \n",
       "\n",
       "   dowodzagraniczny  kartotekaklienta2_x  kontrolacompliance  paszport  \\\n",
       "0               0.0                  0.0                 0.0       0.0   \n",
       "1               0.0                  0.0                 0.0       0.0   \n",
       "2               0.0                  0.0                 0.0       0.0   \n",
       "3               0.0                  0.0                 0.0       0.0   \n",
       "4               0.0                  0.0                 0.0       0.0   \n",
       "\n",
       "         ...          Formularze_danych_osobowych+SKANER  KRS+INBOX  \\\n",
       "0        ...                                           0          0   \n",
       "1        ...                                           0          0   \n",
       "2        ...                                           0          0   \n",
       "3        ...                                           0          0   \n",
       "4        ...                                           0          0   \n",
       "\n",
       "   Dokumenty_Rejestrowe+SKANER  Dokumenty_Rejestrowe+CIB  \\\n",
       "0                            0                         0   \n",
       "1                            0                         0   \n",
       "2                            0                         0   \n",
       "3                            0                         0   \n",
       "4                            0                         0   \n",
       "\n",
       "   DokumentyCashManagement+CIB  DokumentyCashManagement+SKANER  \\\n",
       "0                            0                               0   \n",
       "1                            0                               0   \n",
       "2                            0                               0   \n",
       "3                            0                               0   \n",
       "4                            0                               0   \n",
       "\n",
       "   INBOX+PodrodzajA566  INBOX+imię nazwisko  SKANER+imię nazwisko  \\\n",
       "0                    0                    1                     0   \n",
       "1                    0                    1                     0   \n",
       "2                    0                    0                     0   \n",
       "3                    0                    0                     0   \n",
       "4                    0                    0                     0   \n",
       "\n",
       "   CIB+imię nazwisko  \n",
       "0                  0  \n",
       "1                  0  \n",
       "2                  0  \n",
       "3                  0  \n",
       "4                  0  \n",
       "\n",
       "[5 rows x 2867 columns]"
      ]
     },
     "execution_count": 7,
     "metadata": {},
     "output_type": "execute_result"
    }
   ],
   "source": [
    "df.head()"
   ]
  },
  {
   "cell_type": "code",
   "execution_count": 8,
   "metadata": {},
   "outputs": [
    {
     "data": {
      "image/png": "[encoded data removed]",
      "text/plain": [
       "<Figure size 432x288 with 1 Axes>"
      ]
     },
     "metadata": {},
     "output_type": "display_data"
    }
   ],
   "source": [
    "fig, ax = plt.subplots()\n",
    "g = sns.countplot(df.response, palette='viridis')\n",
    "g.set_xticklabels(['1', '0'])\n",
    "g.set_yticklabels([])\n",
    "\n",
    "#ciekawe ustawienie wartosci na wykresie\n",
    "def show_values(axs):\n",
    "    def show_plot(ax):\n",
    "        for el in ax.patches:\n",
    "            x = el.get_x() + el.get_width()/2\n",
    "            y = el.get_y() + el.get_height()/2\n",
    "            value = f\"{el.get_height()}\"\n",
    "            ax.text(x,y,value, ha=\"center\")\n",
    "    \n",
    "    if isinstance(axs, np.ndarray):\n",
    "        for idx, ax in np.ndenumerate(axs):\n",
    "            show_plot(ax)\n",
    "    else:\n",
    "        show_plot(axs)\n",
    "        \n",
    "show_values(ax)\n",
    "sns.despine(left=True, bottom=True)\n",
    "plt.title('Rozkład wyników')\n",
    "plt.ylabel('')\n",
    "plt.xlabel('')\n",
    "plt.tick_params(axis='x', which='major', labelsize=12)\n",
    "plt.show()"
   ]
  },
  {
   "cell_type": "code",
   "execution_count": 9,
   "metadata": {},
   "outputs": [
    {
     "data": {
      "text/plain": [
       "0.0    16565\n",
       "1.0     2763\n",
       "Name: response, dtype: int64"
      ]
     },
     "execution_count": 9,
     "metadata": {},
     "output_type": "execute_result"
    }
   ],
   "source": [
    "df.response.value_counts()"
   ]
  },
  {
   "cell_type": "code",
   "execution_count": 10,
   "metadata": {},
   "outputs": [
    {
     "data": {
      "text/plain": [
       "599.5294969236338"
      ]
     },
     "execution_count": 10,
     "metadata": {},
     "output_type": "execute_result"
    }
   ],
   "source": [
    "(df.loc[df.response == 0].shape[0]/df.loc[df.response == 1].shape[0] )* 100 \n",
    "#chyba jest pozno i nie widze bo powinno byc 16% "
   ]
  },
  {
   "cell_type": "code",
   "execution_count": 11,
   "metadata": {},
   "outputs": [],
   "source": [
    "#train, test data"
   ]
  },
  {
   "cell_type": "code",
   "execution_count": 12,
   "metadata": {},
   "outputs": [],
   "source": [
    "from sklearn.model_selection import train_test_split"
   ]
  },
  {
   "cell_type": "code",
   "execution_count": 13,
   "metadata": {},
   "outputs": [],
   "source": [
    "y = df.response\n",
    "X = df.drop(['numer_sprawy', 'response'], axis = 1)\n",
    "\n",
    "X_train, X_test, y_train, y_test = train_test_split(X, y, test_size  = 0.4, random_state = 29)"
   ]
  },
  {
   "cell_type": "code",
   "execution_count": 14,
   "metadata": {},
   "outputs": [],
   "source": [
    "#use baseline models (predykcja tylko pozytywnych ponieważ jest przewaga)"
   ]
  },
  {
   "cell_type": "code",
   "execution_count": 15,
   "metadata": {},
   "outputs": [],
   "source": [
    "from sklearn.dummy import DummyClassifier"
   ]
  },
  {
   "cell_type": "code",
   "execution_count": 16,
   "metadata": {},
   "outputs": [],
   "source": [
    "dummy = DummyClassifier(strategy = 'most_frequent').fit(X_train, y_train)\n",
    "dummy_pred = dummy.predict(X_test)"
   ]
  },
  {
   "cell_type": "code",
   "execution_count": 17,
   "metadata": {},
   "outputs": [
    {
     "name": "stdout",
     "output_type": "stream",
     "text": [
      "Labels predict [0.]\n"
     ]
    }
   ],
   "source": [
    "print(f\"Labels predict {np.unique(dummy_pred)}\")"
   ]
  },
  {
   "cell_type": "code",
   "execution_count": 18,
   "metadata": {},
   "outputs": [
    {
     "name": "stdout",
     "output_type": "stream",
     "text": [
      "Score: 0.8491981376099328\n"
     ]
    }
   ],
   "source": [
    "print(f\"Score: {accuracy_score(y_test, dummy_pred)}\")"
   ]
  },
  {
   "cell_type": "code",
   "execution_count": 19,
   "metadata": {},
   "outputs": [],
   "source": [
    "#duzy wynik"
   ]
  },
  {
   "cell_type": "code",
   "execution_count": 20,
   "metadata": {},
   "outputs": [],
   "source": [
    "#jak to wyglada dla innej metody"
   ]
  },
  {
   "cell_type": "code",
   "execution_count": 21,
   "metadata": {},
   "outputs": [],
   "source": [
    "#logistic regression"
   ]
  },
  {
   "cell_type": "code",
   "execution_count": 22,
   "metadata": {},
   "outputs": [],
   "source": [
    "logreg = LogisticRegression(solver='liblinear').fit(X_train, y_train)"
   ]
  },
  {
   "cell_type": "code",
   "execution_count": 23,
   "metadata": {},
   "outputs": [],
   "source": [
    "logreg_pred = logreg.predict(X_test)"
   ]
  },
  {
   "cell_type": "code",
   "execution_count": 24,
   "metadata": {},
   "outputs": [
    {
     "data": {
      "text/plain": [
       "0.8564407656492499"
      ]
     },
     "execution_count": 24,
     "metadata": {},
     "output_type": "execute_result"
    }
   ],
   "source": [
    "accuracy_score(y_test, logreg_pred)"
   ]
  },
  {
   "cell_type": "code",
   "execution_count": 25,
   "metadata": {},
   "outputs": [],
   "source": [
    "#również duży wynik predykcji (dla naive bayes, kneigbors to samo było(poprzedni html))"
   ]
  },
  {
   "cell_type": "code",
   "execution_count": 26,
   "metadata": {},
   "outputs": [
    {
     "data": {
      "text/html": [
       "<div>\n",
       "<style scoped>\n",
       "    .dataframe tbody tr th:only-of-type {\n",
       "        vertical-align: middle;\n",
       "    }\n",
       "\n",
       "    .dataframe tbody tr th {\n",
       "        vertical-align: top;\n",
       "    }\n",
       "\n",
       "    .dataframe thead th {\n",
       "        text-align: right;\n",
       "    }\n",
       "</style>\n",
       "<table border=\"1\" class=\"dataframe\">\n",
       "  <thead>\n",
       "    <tr style=\"text-align: right;\">\n",
       "      <th></th>\n",
       "      <th>0</th>\n",
       "    </tr>\n",
       "  </thead>\n",
       "  <tbody>\n",
       "    <tr>\n",
       "      <th>0</th>\n",
       "      <td>0.0</td>\n",
       "    </tr>\n",
       "    <tr>\n",
       "      <th>1</th>\n",
       "      <td>1.0</td>\n",
       "    </tr>\n",
       "    <tr>\n",
       "      <th>2</th>\n",
       "      <td>0.0</td>\n",
       "    </tr>\n",
       "    <tr>\n",
       "      <th>3</th>\n",
       "      <td>0.0</td>\n",
       "    </tr>\n",
       "    <tr>\n",
       "      <th>4</th>\n",
       "      <td>0.0</td>\n",
       "    </tr>\n",
       "  </tbody>\n",
       "</table>\n",
       "</div>"
      ],
      "text/plain": [
       "     0\n",
       "0  0.0\n",
       "1  1.0\n",
       "2  0.0\n",
       "3  0.0\n",
       "4  0.0"
      ]
     },
     "execution_count": 26,
     "metadata": {},
     "output_type": "execute_result"
    }
   ],
   "source": [
    "pred_score = pd.DataFrame(logreg_pred)\n",
    "pred_score.head()"
   ]
  },
  {
   "cell_type": "code",
   "execution_count": 27,
   "metadata": {},
   "outputs": [
    {
     "data": {
      "text/plain": [
       "0.0    7532\n",
       "1.0     200\n",
       "Name: 0, dtype: int64"
      ]
     },
     "execution_count": 27,
     "metadata": {},
     "output_type": "execute_result"
    }
   ],
   "source": [
    "pred_score[0].value_counts()"
   ]
  },
  {
   "cell_type": "code",
   "execution_count": 28,
   "metadata": {},
   "outputs": [],
   "source": [
    "#różnica miedzy Dummy a Logistic Regresion to niecałe pół procenta na wyniku, trzeba coś z tym zrobić"
   ]
  },
  {
   "cell_type": "code",
   "execution_count": 29,
   "metadata": {},
   "outputs": [
    {
     "data": {
      "text/plain": [
       "0.18740849194729137"
      ]
     },
     "execution_count": 29,
     "metadata": {},
     "output_type": "execute_result"
    }
   ],
   "source": [
    "f1_score(y_test, logreg_pred)"
   ]
  },
  {
   "cell_type": "code",
   "execution_count": 30,
   "metadata": {},
   "outputs": [
    {
     "data": {
      "text/html": [
       "<div>\n",
       "<style scoped>\n",
       "    .dataframe tbody tr th:only-of-type {\n",
       "        vertical-align: middle;\n",
       "    }\n",
       "\n",
       "    .dataframe tbody tr th {\n",
       "        vertical-align: top;\n",
       "    }\n",
       "\n",
       "    .dataframe thead th {\n",
       "        text-align: right;\n",
       "    }\n",
       "</style>\n",
       "<table border=\"1\" class=\"dataframe\">\n",
       "  <thead>\n",
       "    <tr style=\"text-align: right;\">\n",
       "      <th></th>\n",
       "      <th>0</th>\n",
       "      <th>1</th>\n",
       "    </tr>\n",
       "  </thead>\n",
       "  <tbody>\n",
       "    <tr>\n",
       "      <th>0</th>\n",
       "      <td>6494</td>\n",
       "      <td>72</td>\n",
       "    </tr>\n",
       "    <tr>\n",
       "      <th>1</th>\n",
       "      <td>1038</td>\n",
       "      <td>128</td>\n",
       "    </tr>\n",
       "  </tbody>\n",
       "</table>\n",
       "</div>"
      ],
      "text/plain": [
       "      0    1\n",
       "0  6494   72\n",
       "1  1038  128"
      ]
     },
     "execution_count": 30,
     "metadata": {},
     "output_type": "execute_result"
    }
   ],
   "source": [
    "pd.DataFrame(confusion_matrix(y_test, logreg_pred))"
   ]
  },
  {
   "cell_type": "code",
   "execution_count": 31,
   "metadata": {},
   "outputs": [
    {
     "data": {
      "text/plain": [
       "0.1097770154373928"
      ]
     },
     "execution_count": 31,
     "metadata": {},
     "output_type": "execute_result"
    }
   ],
   "source": [
    "recall_score(y_test, logreg_pred)"
   ]
  },
  {
   "cell_type": "code",
   "execution_count": 32,
   "metadata": {},
   "outputs": [],
   "source": [
    "#możemy wywnsioskować że pomimo wyniku predykcji na poziomie 86% nie są miarodajne"
   ]
  },
  {
   "cell_type": "code",
   "execution_count": 33,
   "metadata": {},
   "outputs": [],
   "source": [
    "#Sprawdzę jak to wygląda dla poprzednich trzech metod"
   ]
  },
  {
   "cell_type": "code",
   "execution_count": 34,
   "metadata": {},
   "outputs": [
    {
     "data": {
      "text/plain": [
       "numpy.ndarray"
      ]
     },
     "execution_count": 34,
     "metadata": {},
     "output_type": "execute_result"
    }
   ],
   "source": [
    "type(logreg_pred)"
   ]
  },
  {
   "cell_type": "code",
   "execution_count": 35,
   "metadata": {},
   "outputs": [
    {
     "data": {
      "text/plain": [
       "pandas.core.series.Series"
      ]
     },
     "execution_count": 35,
     "metadata": {},
     "output_type": "execute_result"
    }
   ],
   "source": [
    "type(y_test)"
   ]
  },
  {
   "cell_type": "code",
   "execution_count": 106,
   "metadata": {},
   "outputs": [],
   "source": [
    "def show_scores(y_test: pd.core.series.Series, method_pred: np.ndarray, meth_name: str):\n",
    "    acc_result = accuracy_score(y_test, method_pred)\n",
    "    f1_result =  f1_score(y_test, method_pred)\n",
    "    matrix_result = pd.DataFrame(confusion_matrix(y_test, method_pred))\n",
    "    recall_result = recall_score(y_test, method_pred)\n",
    "    precision_result = precision_score(y_test, method_pred)\n",
    "    \n",
    "    print(\"-\"*100)\n",
    "    print(f\"{meth_name}\")\n",
    "    print(\"-\"*100)\n",
    "    print(f\"accuracy: {acc_result}\")\n",
    "    print(f\"f1 score: {f1_result}\")\n",
    "    print(f\"confusion matrix:\\n{matrix_result}\")\n",
    "    print(f\"recal score: {recall_result}\")\n",
    "    print(f\"precision score: {recall_result}\")"
   ]
  },
  {
   "cell_type": "code",
   "execution_count": 107,
   "metadata": {},
   "outputs": [
    {
     "name": "stdout",
     "output_type": "stream",
     "text": [
      "----------------------------------------------------------------------------------------------------\n",
      "GaussianNB\n",
      "----------------------------------------------------------------------------------------------------\n",
      "accuracy: 0.185980341438179\n",
      "f1 score: 0.2619606003752345\n",
      "confusion matrix:\n",
      "     0     1\n",
      "0  321  6245\n",
      "1   49  1117\n",
      "recal score: 0.9579759862778731\n",
      "precision score: 0.9579759862778731\n"
     ]
    }
   ],
   "source": [
    "from sklearn.naive_bayes import GaussianNB\n",
    "from sklearn.metrics import accuracy_score\n",
    "\n",
    "gnb = GaussianNB()\n",
    "\n",
    "gnb_pred = gnb.fit(X_train,y_train).predict(X_test)\n",
    "\n",
    "show_scores(y_test, gnb_pred, \"GaussianNB\")"
   ]
  },
  {
   "cell_type": "code",
   "execution_count": 108,
   "metadata": {},
   "outputs": [
    {
     "name": "stdout",
     "output_type": "stream",
     "text": [
      "----------------------------------------------------------------------------------------------------\n",
      "LinearSVC\n",
      "----------------------------------------------------------------------------------------------------\n",
      "accuracy: 0.15106052767718572\n",
      "f1 score: 0.26214028776978415\n",
      "confusion matrix:\n",
      "   0     1\n",
      "0  2  6564\n",
      "1  0  1166\n",
      "recal score: 1.0\n",
      "precision score: 1.0\n"
     ]
    }
   ],
   "source": [
    "from sklearn.svm import LinearSVC\n",
    "\n",
    "svc_model = LinearSVC(random_state = 0)\n",
    "\n",
    "svc_pred = svc_model.fit(X_train, y_train).predict(X_test)\n",
    "\n",
    "show_scores(y_test, svc_pred, \"LinearSVC\")"
   ]
  },
  {
   "cell_type": "code",
   "execution_count": 109,
   "metadata": {},
   "outputs": [
    {
     "name": "stdout",
     "output_type": "stream",
     "text": [
      "----------------------------------------------------------------------------------------------------\n",
      "KNeighborsClassifier\n",
      "----------------------------------------------------------------------------------------------------\n",
      "accuracy: 0.7771598551474392\n",
      "f1 score: 0.15745721271393642\n",
      "confusion matrix:\n",
      "      0    1\n",
      "0  5848  718\n",
      "1  1005  161\n",
      "recal score: 0.13807890222984562\n",
      "precision score: 0.13807890222984562\n"
     ]
    }
   ],
   "source": [
    "from sklearn.neighbors import KNeighborsClassifier\n",
    "\n",
    "KN = KNeighborsClassifier(n_neighbors = 2)\n",
    "\n",
    "kn_pred = KN.fit(X_train, y_train).predict(X_test)\n",
    "\n",
    "show_scores(y_test, kn_pred, \"KNeighborsClassifier\")"
   ]
  },
  {
   "cell_type": "code",
   "execution_count": 110,
   "metadata": {},
   "outputs": [],
   "source": [
    "from sklearn.utils import resample"
   ]
  },
  {
   "cell_type": "code",
   "execution_count": 111,
   "metadata": {},
   "outputs": [],
   "source": [
    "X = pd.concat([X_train, y_train], axis=1)"
   ]
  },
  {
   "cell_type": "markdown",
   "metadata": {},
   "source": [
    "# seprate miniority & majority"
   ]
  },
  {
   "cell_type": "code",
   "execution_count": 112,
   "metadata": {},
   "outputs": [],
   "source": [
    "bad = X[X.response == 0]"
   ]
  },
  {
   "cell_type": "code",
   "execution_count": 113,
   "metadata": {},
   "outputs": [],
   "source": [
    "good = X[X.response == 1]"
   ]
  },
  {
   "cell_type": "markdown",
   "metadata": {},
   "source": [
    "# unsample miniority # oversampling"
   ]
  },
  {
   "cell_type": "code",
   "execution_count": 114,
   "metadata": {},
   "outputs": [],
   "source": [
    "bad_unsampled = resample(bad, replace=False, n_samples=len(good), random_state=27)"
   ]
  },
  {
   "cell_type": "code",
   "execution_count": 115,
   "metadata": {},
   "outputs": [],
   "source": [
    "unsampled = pd.concat([good, bad_unsampled])"
   ]
  },
  {
   "cell_type": "code",
   "execution_count": 116,
   "metadata": {},
   "outputs": [
    {
     "data": {
      "text/plain": [
       "0.0    9999\n",
       "1.0    9999\n",
       "Name: response, dtype: int64"
      ]
     },
     "execution_count": 116,
     "metadata": {},
     "output_type": "execute_result"
    }
   ],
   "source": [
    "unsampled.response.value_counts()"
   ]
  },
  {
   "cell_type": "code",
   "execution_count": 117,
   "metadata": {},
   "outputs": [],
   "source": [
    "#udalo sie wyrównać"
   ]
  },
  {
   "cell_type": "code",
   "execution_count": 118,
   "metadata": {},
   "outputs": [],
   "source": [
    "y_train = unsampled.response"
   ]
  },
  {
   "cell_type": "code",
   "execution_count": 119,
   "metadata": {},
   "outputs": [],
   "source": [
    "X_train = unsampled.drop(['response'], axis=1)"
   ]
  },
  {
   "cell_type": "code",
   "execution_count": 120,
   "metadata": {},
   "outputs": [],
   "source": [
    "#logistic regression"
   ]
  },
  {
   "cell_type": "code",
   "execution_count": 121,
   "metadata": {},
   "outputs": [],
   "source": [
    "unsampled = LogisticRegression(solver='liblinear').fit(X_train, y_train)\n",
    "unsampled_pred = unsampled.predict(X_test)"
   ]
  },
  {
   "cell_type": "code",
   "execution_count": 122,
   "metadata": {},
   "outputs": [
    {
     "name": "stdout",
     "output_type": "stream",
     "text": [
      "----------------------------------------------------------------------------------------------------\n",
      "LogisticRegression\n",
      "----------------------------------------------------------------------------------------------------\n",
      "accuracy: 0.7898344542162442\n",
      "f1 score: 0.46703837323712694\n",
      "confusion matrix:\n",
      "      0     1\n",
      "0  5395  1171\n",
      "1   454   712\n",
      "recal score: 0.6106346483704974\n",
      "precision score: 0.6106346483704974\n"
     ]
    }
   ],
   "source": [
    "show_scores(y_test, unsampled_pred, \"LogisticRegression\")"
   ]
  },
  {
   "cell_type": "code",
   "execution_count": 123,
   "metadata": {},
   "outputs": [],
   "source": [
    "#naive bayes"
   ]
  },
  {
   "cell_type": "code",
   "execution_count": 124,
   "metadata": {},
   "outputs": [
    {
     "name": "stdout",
     "output_type": "stream",
     "text": [
      "----------------------------------------------------------------------------------------------------\n",
      "GaussianNB\n",
      "----------------------------------------------------------------------------------------------------\n",
      "accuracy: 0.185980341438179\n",
      "f1 score: 0.2619606003752345\n",
      "confusion matrix:\n",
      "     0     1\n",
      "0  321  6245\n",
      "1   49  1117\n",
      "recal score: 0.9579759862778731\n",
      "precision score: 0.9579759862778731\n"
     ]
    }
   ],
   "source": [
    "gnb = GaussianNB()\n",
    "\n",
    "gnb_pred = gnb.fit(X_train,y_train).predict(X_test)\n",
    "\n",
    "show_scores(y_test, gnb_pred, \"GaussianNB\")"
   ]
  },
  {
   "cell_type": "code",
   "execution_count": 125,
   "metadata": {},
   "outputs": [],
   "source": [
    "#dramat"
   ]
  },
  {
   "cell_type": "code",
   "execution_count": 126,
   "metadata": {},
   "outputs": [
    {
     "name": "stdout",
     "output_type": "stream",
     "text": [
      "----------------------------------------------------------------------------------------------------\n",
      "KNeighborsClassifier\n",
      "----------------------------------------------------------------------------------------------------\n",
      "accuracy: 0.7769011898603208\n",
      "f1 score: 0.15730337078651685\n",
      "confusion matrix:\n",
      "      0    1\n",
      "0  5846  720\n",
      "1  1005  161\n",
      "recal score: 0.13807890222984562\n",
      "precision score: 0.13807890222984562\n"
     ]
    }
   ],
   "source": [
    "KN = KNeighborsClassifier(n_neighbors = 2)\n",
    "\n",
    "kn_pred = KN.fit(X_train, y_train).predict(X_test)\n",
    "\n",
    "show_scores(y_test, kn_pred, \"KNeighborsClassifier\")"
   ]
  },
  {
   "cell_type": "markdown",
   "metadata": {},
   "source": [
    "# Wyniki nie są zadowalające, sprawdzmy undersampling"
   ]
  },
  {
   "cell_type": "code",
   "execution_count": 127,
   "metadata": {},
   "outputs": [],
   "source": [
    "good_downsampled = resample(good, replace=True, n_samples=len(bad), random_state=27)"
   ]
  },
  {
   "cell_type": "code",
   "execution_count": 128,
   "metadata": {},
   "outputs": [],
   "source": [
    "downsampled = pd.concat([good_downsampled, bad])"
   ]
  },
  {
   "cell_type": "code",
   "execution_count": 129,
   "metadata": {},
   "outputs": [
    {
     "data": {
      "text/plain": [
       "0.0    9999\n",
       "1.0    9999\n",
       "Name: response, dtype: int64"
      ]
     },
     "execution_count": 129,
     "metadata": {},
     "output_type": "execute_result"
    }
   ],
   "source": [
    "downsampled.response.value_counts()"
   ]
  },
  {
   "cell_type": "code",
   "execution_count": 130,
   "metadata": {},
   "outputs": [],
   "source": [
    "y_train = downsampled.response\n",
    "\n",
    "X_train = downsampled.drop(['response'], axis=1)"
   ]
  },
  {
   "cell_type": "code",
   "execution_count": 131,
   "metadata": {},
   "outputs": [],
   "source": [
    "#logistic regression"
   ]
  },
  {
   "cell_type": "code",
   "execution_count": 132,
   "metadata": {},
   "outputs": [],
   "source": [
    "under_lr = LogisticRegression(solver='liblinear').fit(X_train, y_train)"
   ]
  },
  {
   "cell_type": "code",
   "execution_count": 133,
   "metadata": {},
   "outputs": [],
   "source": [
    "under_lr_pred = under_lr.predict(X_test)"
   ]
  },
  {
   "cell_type": "code",
   "execution_count": 134,
   "metadata": {},
   "outputs": [
    {
     "name": "stdout",
     "output_type": "stream",
     "text": [
      "----------------------------------------------------------------------------------------------------\n",
      "LogisticRegression\n",
      "----------------------------------------------------------------------------------------------------\n",
      "accuracy: 0.7864718054837041\n",
      "f1 score: 0.4606337798105195\n",
      "confusion matrix:\n",
      "      0     1\n",
      "0  5376  1190\n",
      "1   461   705\n",
      "recal score: 0.6046312178387651\n",
      "precision score: 0.6046312178387651\n"
     ]
    }
   ],
   "source": [
    "show_scores(y_test, under_lr_pred, \"LogisticRegression\")"
   ]
  },
  {
   "cell_type": "code",
   "execution_count": 135,
   "metadata": {},
   "outputs": [
    {
     "name": "stdout",
     "output_type": "stream",
     "text": [
      "----------------------------------------------------------------------------------------------------\n",
      "GaussianNB\n",
      "----------------------------------------------------------------------------------------------------\n",
      "accuracy: 0.18701500258665288\n",
      "f1 score: 0.262206572769953\n",
      "confusion matrix:\n",
      "     0     1\n",
      "0  329  6237\n",
      "1   49  1117\n",
      "recal score: 0.9579759862778731\n",
      "precision score: 0.9579759862778731\n"
     ]
    }
   ],
   "source": [
    "#naive bayes\n",
    "\n",
    "gnb = GaussianNB()\n",
    "\n",
    "gnb_pred = gnb.fit(X_train,y_train).predict(X_test)\n",
    "\n",
    "show_scores(y_test, gnb_pred, \"GaussianNB\")"
   ]
  },
  {
   "cell_type": "code",
   "execution_count": 136,
   "metadata": {},
   "outputs": [
    {
     "name": "stdout",
     "output_type": "stream",
     "text": [
      "----------------------------------------------------------------------------------------------------\n",
      "KNeighborsClassifier\n",
      "----------------------------------------------------------------------------------------------------\n",
      "accuracy: 0.7176668391101914\n",
      "f1 score: 0.20415603353991982\n",
      "confusion matrix:\n",
      "      0     1\n",
      "0  5269  1297\n",
      "1   886   280\n",
      "recal score: 0.24013722126929674\n",
      "precision score: 0.24013722126929674\n"
     ]
    }
   ],
   "source": [
    "#dramat\n",
    "\n",
    "KN = KNeighborsClassifier(n_neighbors = 3)\n",
    "\n",
    "kn_pred = KN.fit(X_train, y_train).predict(X_test)\n",
    "\n",
    "show_scores(y_test, kn_pred, \"KNeighborsClassifier\")"
   ]
  },
  {
   "cell_type": "code",
   "execution_count": null,
   "metadata": {},
   "outputs": [],
   "source": []
  },
  {
   "cell_type": "code",
   "execution_count": null,
   "metadata": {},
   "outputs": [],
   "source": []
  }
 ],
 "metadata": {
  "kernelspec": {
   "display_name": "Python 3",
   "language": "python",
   "name": "python3"
  },
  "language_info": {
   "codemirror_mode": {
    "name": "ipython",
    "version": 3
   },
   "file_extension": ".py",
   "mimetype": "text/x-python",
   "name": "python",
   "nbconvert_exporter": "python",
   "pygments_lexer": "ipython3",
   "version": "3.7.6"
  }
 },
 "nbformat": 4,
 "nbformat_minor": 2
}
